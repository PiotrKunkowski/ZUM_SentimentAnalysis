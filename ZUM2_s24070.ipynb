{
  "nbformat": 4,
  "nbformat_minor": 5,
  "metadata": {
    "kernelspec": {
      "display_name": "Python 3",
      "language": "python",
      "name": "python3"
    },
    "language_info": {
      "codemirror_mode": {
        "name": "ipython",
        "version": 3
      },
      "file_extension": ".py",
      "mimetype": "text/x-python",
      "name": "python",
      "nbconvert_exporter": "python",
      "pygments_lexer": "ipython3",
      "version": "3.8.5"
    },
    "colab": {
      "name": "ZUM2_s24070.ipynb",
      "provenance": [],
      "collapsed_sections": []
    },
    "accelerator": "GPU",
    "gpuClass": "standard"
  },
  "cells": [
    {
      "cell_type": "code",
      "metadata": {
        "id": "_52Y_RbClg6w",
        "colab": {
          "base_uri": "https://localhost:8080/"
        },
        "outputId": "580cf6a2-0565-46a8-c03e-cd649eaca937"
      },
      "source": [
        "# import potrzebnych bibliotek\n",
        "import pandas as pd\n",
        "import numpy as np\n",
        "import matplotlib.pyplot as plt\n",
        "import seaborn as sns\n",
        "import re\n",
        "import string\n",
        "from collections import Counter\n",
        "\n",
        "#nltk\n",
        "import nltk\n",
        "from nltk.stem import WordNetLemmatizer\n",
        "from nltk.corpus import stopwords\n",
        "nltk.download('stopwords')\n",
        "nltk.download('wordnet')\n",
        "\n",
        "# system\n",
        "import os\n",
        "import shutil\n",
        "\n",
        "# tf\n",
        "import tensorflow as tf\n",
        "\n",
        "#gensim\n",
        "from gensim.models.phrases import Phrases, Phraser\n",
        "from gensim.models import Word2Vec\n",
        "\n",
        "#wordcloud \n",
        "from wordcloud import WordCloud \n",
        "\n",
        "#filter warnings\n",
        "import warnings\n",
        "warnings.filterwarnings('ignore')\n",
        "\n",
        "#ML models\n",
        "from sklearn.neighbors import KNeighborsClassifier\n",
        "from sklearn.naive_bayes import MultinomialNB\n",
        "from sklearn.linear_model import LogisticRegression\n",
        "from sklearn.model_selection import train_test_split\n",
        "from sklearn.feature_extraction.text import TfidfVectorizer\n",
        "from sklearn.metrics import confusion_matrix, classification_report, accuracy_score, roc_curve, auc"
      ],
      "id": "_52Y_RbClg6w",
      "execution_count": 1,
      "outputs": [
        {
          "output_type": "stream",
          "name": "stderr",
          "text": [
            "[nltk_data] Downloading package stopwords to /root/nltk_data...\n",
            "[nltk_data]   Package stopwords is already up-to-date!\n",
            "[nltk_data] Downloading package wordnet to /root/nltk_data...\n",
            "[nltk_data]   Package wordnet is already up-to-date!\n"
          ]
        }
      ]
    },
    {
      "cell_type": "markdown",
      "source": [
        "# **1B - Dane i preprocesowanie**"
      ],
      "metadata": {
        "id": "sv0yFyhVz-Fd"
      },
      "id": "sv0yFyhVz-Fd"
    },
    {
      "cell_type": "code",
      "source": [
        "from google.colab import drive\n",
        "drive.mount('/content/drive')"
      ],
      "metadata": {
        "colab": {
          "base_uri": "https://localhost:8080/"
        },
        "id": "KDIdXPi66qpG",
        "outputId": "30c42697-73e5-43e1-b9e7-cd014a2ccb36"
      },
      "id": "KDIdXPi66qpG",
      "execution_count": 2,
      "outputs": [
        {
          "output_type": "stream",
          "name": "stdout",
          "text": [
            "Drive already mounted at /content/drive; to attempt to forcibly remount, call drive.mount(\"/content/drive\", force_remount=True).\n"
          ]
        }
      ]
    },
    {
      "cell_type": "code",
      "execution_count": 3,
      "metadata": {
        "colab": {
          "base_uri": "https://localhost:8080/",
          "height": 206
        },
        "id": "RWSJpsyKqHjH",
        "outputId": "dac6f48f-263f-4b18-b049-fe77bbd24c15"
      },
      "outputs": [
        {
          "output_type": "execute_result",
          "data": {
            "text/plain": [
              "   id  label                                              tweet\n",
              "0   1      0   @user when a father is dysfunctional and is s...\n",
              "1   2      0  @user @user thanks for #lyft credit i can't us...\n",
              "2   3      0                                bihday your majesty\n",
              "3   4      0  #model   i love u take with u all the time in ...\n",
              "4   5      0             factsguide: society now    #motivation"
            ],
            "text/html": [
              "\n",
              "  <div id=\"df-0f75a5e3-2882-4ff7-abff-b15a4000aa9a\">\n",
              "    <div class=\"colab-df-container\">\n",
              "      <div>\n",
              "<style scoped>\n",
              "    .dataframe tbody tr th:only-of-type {\n",
              "        vertical-align: middle;\n",
              "    }\n",
              "\n",
              "    .dataframe tbody tr th {\n",
              "        vertical-align: top;\n",
              "    }\n",
              "\n",
              "    .dataframe thead th {\n",
              "        text-align: right;\n",
              "    }\n",
              "</style>\n",
              "<table border=\"1\" class=\"dataframe\">\n",
              "  <thead>\n",
              "    <tr style=\"text-align: right;\">\n",
              "      <th></th>\n",
              "      <th>id</th>\n",
              "      <th>label</th>\n",
              "      <th>tweet</th>\n",
              "    </tr>\n",
              "  </thead>\n",
              "  <tbody>\n",
              "    <tr>\n",
              "      <th>0</th>\n",
              "      <td>1</td>\n",
              "      <td>0</td>\n",
              "      <td>@user when a father is dysfunctional and is s...</td>\n",
              "    </tr>\n",
              "    <tr>\n",
              "      <th>1</th>\n",
              "      <td>2</td>\n",
              "      <td>0</td>\n",
              "      <td>@user @user thanks for #lyft credit i can't us...</td>\n",
              "    </tr>\n",
              "    <tr>\n",
              "      <th>2</th>\n",
              "      <td>3</td>\n",
              "      <td>0</td>\n",
              "      <td>bihday your majesty</td>\n",
              "    </tr>\n",
              "    <tr>\n",
              "      <th>3</th>\n",
              "      <td>4</td>\n",
              "      <td>0</td>\n",
              "      <td>#model   i love u take with u all the time in ...</td>\n",
              "    </tr>\n",
              "    <tr>\n",
              "      <th>4</th>\n",
              "      <td>5</td>\n",
              "      <td>0</td>\n",
              "      <td>factsguide: society now    #motivation</td>\n",
              "    </tr>\n",
              "  </tbody>\n",
              "</table>\n",
              "</div>\n",
              "      <button class=\"colab-df-convert\" onclick=\"convertToInteractive('df-0f75a5e3-2882-4ff7-abff-b15a4000aa9a')\"\n",
              "              title=\"Convert this dataframe to an interactive table.\"\n",
              "              style=\"display:none;\">\n",
              "        \n",
              "  <svg xmlns=\"http://www.w3.org/2000/svg\" height=\"24px\"viewBox=\"0 0 24 24\"\n",
              "       width=\"24px\">\n",
              "    <path d=\"M0 0h24v24H0V0z\" fill=\"none\"/>\n",
              "    <path d=\"M18.56 5.44l.94 2.06.94-2.06 2.06-.94-2.06-.94-.94-2.06-.94 2.06-2.06.94zm-11 1L8.5 8.5l.94-2.06 2.06-.94-2.06-.94L8.5 2.5l-.94 2.06-2.06.94zm10 10l.94 2.06.94-2.06 2.06-.94-2.06-.94-.94-2.06-.94 2.06-2.06.94z\"/><path d=\"M17.41 7.96l-1.37-1.37c-.4-.4-.92-.59-1.43-.59-.52 0-1.04.2-1.43.59L10.3 9.45l-7.72 7.72c-.78.78-.78 2.05 0 2.83L4 21.41c.39.39.9.59 1.41.59.51 0 1.02-.2 1.41-.59l7.78-7.78 2.81-2.81c.8-.78.8-2.07 0-2.86zM5.41 20L4 18.59l7.72-7.72 1.47 1.35L5.41 20z\"/>\n",
              "  </svg>\n",
              "      </button>\n",
              "      \n",
              "  <style>\n",
              "    .colab-df-container {\n",
              "      display:flex;\n",
              "      flex-wrap:wrap;\n",
              "      gap: 12px;\n",
              "    }\n",
              "\n",
              "    .colab-df-convert {\n",
              "      background-color: #E8F0FE;\n",
              "      border: none;\n",
              "      border-radius: 50%;\n",
              "      cursor: pointer;\n",
              "      display: none;\n",
              "      fill: #1967D2;\n",
              "      height: 32px;\n",
              "      padding: 0 0 0 0;\n",
              "      width: 32px;\n",
              "    }\n",
              "\n",
              "    .colab-df-convert:hover {\n",
              "      background-color: #E2EBFA;\n",
              "      box-shadow: 0px 1px 2px rgba(60, 64, 67, 0.3), 0px 1px 3px 1px rgba(60, 64, 67, 0.15);\n",
              "      fill: #174EA6;\n",
              "    }\n",
              "\n",
              "    [theme=dark] .colab-df-convert {\n",
              "      background-color: #3B4455;\n",
              "      fill: #D2E3FC;\n",
              "    }\n",
              "\n",
              "    [theme=dark] .colab-df-convert:hover {\n",
              "      background-color: #434B5C;\n",
              "      box-shadow: 0px 1px 3px 1px rgba(0, 0, 0, 0.15);\n",
              "      filter: drop-shadow(0px 1px 2px rgba(0, 0, 0, 0.3));\n",
              "      fill: #FFFFFF;\n",
              "    }\n",
              "  </style>\n",
              "\n",
              "      <script>\n",
              "        const buttonEl =\n",
              "          document.querySelector('#df-0f75a5e3-2882-4ff7-abff-b15a4000aa9a button.colab-df-convert');\n",
              "        buttonEl.style.display =\n",
              "          google.colab.kernel.accessAllowed ? 'block' : 'none';\n",
              "\n",
              "        async function convertToInteractive(key) {\n",
              "          const element = document.querySelector('#df-0f75a5e3-2882-4ff7-abff-b15a4000aa9a');\n",
              "          const dataTable =\n",
              "            await google.colab.kernel.invokeFunction('convertToInteractive',\n",
              "                                                     [key], {});\n",
              "          if (!dataTable) return;\n",
              "\n",
              "          const docLinkHtml = 'Like what you see? Visit the ' +\n",
              "            '<a target=\"_blank\" href=https://colab.research.google.com/notebooks/data_table.ipynb>data table notebook</a>'\n",
              "            + ' to learn more about interactive tables.';\n",
              "          element.innerHTML = '';\n",
              "          dataTable['output_type'] = 'display_data';\n",
              "          await google.colab.output.renderOutput(dataTable, element);\n",
              "          const docLink = document.createElement('div');\n",
              "          docLink.innerHTML = docLinkHtml;\n",
              "          element.appendChild(docLink);\n",
              "        }\n",
              "      </script>\n",
              "    </div>\n",
              "  </div>\n",
              "  "
            ]
          },
          "metadata": {},
          "execution_count": 3
        }
      ],
      "source": [
        "df_raw=pd.read_csv('/content/drive/My Drive/PJATK/twitterSentiment.csv',encoding='utf-8')\n",
        "df_raw.head()\n",
        "# Data: https://www.kaggle.com/datasets/arkhoshghalb/twitter-sentiment-analysis-hatred-speech?select=train.csv\n",
        "\n",
        "# 0 - positive/neutral sentiment - tweet is not racist / sexist\n",
        "# 1 - negative sentiment - tweet is racist / sexist"
      ],
      "id": "RWSJpsyKqHjH"
    },
    {
      "cell_type": "code",
      "source": [
        "print('length of data is', len(df_raw))\n",
        "df_raw.info()\n",
        "Counter(df_raw['label'])"
      ],
      "metadata": {
        "colab": {
          "base_uri": "https://localhost:8080/"
        },
        "id": "VtcQuB-b89P1",
        "outputId": "66a754fe-54f8-49f9-d439-a0e9e9ddda38"
      },
      "id": "VtcQuB-b89P1",
      "execution_count": 31,
      "outputs": [
        {
          "output_type": "stream",
          "name": "stdout",
          "text": [
            "length of data is 31962\n",
            "<class 'pandas.core.frame.DataFrame'>\n",
            "RangeIndex: 31962 entries, 0 to 31961\n",
            "Data columns (total 3 columns):\n",
            " #   Column  Non-Null Count  Dtype \n",
            "---  ------  --------------  ----- \n",
            " 0   id      31962 non-null  int64 \n",
            " 1   label   31962 non-null  int64 \n",
            " 2   tweet   31962 non-null  object\n",
            "dtypes: int64(2), object(1)\n",
            "memory usage: 749.2+ KB\n"
          ]
        },
        {
          "output_type": "execute_result",
          "data": {
            "text/plain": [
              "Counter({0: 29720, 1: 2242})"
            ]
          },
          "metadata": {},
          "execution_count": 31
        }
      ]
    },
    {
      "cell_type": "code",
      "source": [
        "np.sum(df_raw.isnull().any(axis=1))\n",
        "# W danych nie ma nulli"
      ],
      "metadata": {
        "colab": {
          "base_uri": "https://localhost:8080/"
        },
        "id": "h2gGegT29SZ0",
        "outputId": "45735434-8cbe-4234-bcf8-a14fa239462a"
      },
      "id": "h2gGegT29SZ0",
      "execution_count": 5,
      "outputs": [
        {
          "output_type": "execute_result",
          "data": {
            "text/plain": [
              "0"
            ]
          },
          "metadata": {},
          "execution_count": 5
        }
      ]
    },
    {
      "cell_type": "code",
      "source": [
        "# Wykres dystrybucji danych\n",
        "ax = df_raw.groupby('label').count().plot(kind='bar', title='Distribution of data',legend=False)\n",
        "ax.set_xticklabels(['Positive/neutral','Negative'], rotation=0)\n",
        "text, sentiment = list(df_raw['tweet']), list(df_raw['label'])"
      ],
      "metadata": {
        "colab": {
          "base_uri": "https://localhost:8080/",
          "height": 295
        },
        "id": "Zj5w68-HnaoC",
        "outputId": "86288122-ff99-4b80-d189-af5d1f64cade"
      },
      "id": "Zj5w68-HnaoC",
      "execution_count": 6,
      "outputs": [
        {
          "output_type": "display_data",
          "data": {
            "text/plain": [
              "<Figure size 432x288 with 1 Axes>"
            ],
            "image/png": "[encoded data removed]"
          },
          "metadata": {
            "needs_background": "light"
          }
        }
      ]
    },
    {
      "cell_type": "code",
      "source": [
        "!pip install num2words -q\n",
        "from num2words import num2words"
      ],
      "metadata": {
        "id": "eYA1_4nMxbT0"
      },
      "id": "eYA1_4nMxbT0",
      "execution_count": 7,
      "outputs": []
    },
    {
      "cell_type": "code",
      "source": [
        "#Preprocesowanie\n",
        "df_raw['tweet'].drop_duplicates(keep='first', inplace=True)\n",
        "data=df_raw[['tweet','label']]\n",
        "data_pos = data[data['label'] == 0]\n",
        "data_neg = data[data['label'] == 1]\n",
        "dataset = pd.concat([data_pos, data_neg])"
      ],
      "metadata": {
        "id": "uXcmmW9IoDZ_"
      },
      "id": "uXcmmW9IoDZ_",
      "execution_count": 8,
      "outputs": []
    },
    {
      "cell_type": "code",
      "source": [
        "stop_words = stopwords.words(\"english\")\n",
        "punctuation = string.punctuation + '¿'\n",
        "dataset['tweet']=dataset['tweet'].str.lower()\n",
        "dataset['tweet'].tail()"
      ],
      "metadata": {
        "colab": {
          "base_uri": "https://localhost:8080/"
        },
        "id": "8AmrVUflqChL",
        "outputId": "db9f540f-5d6b-4cb3-9fb8-a53709696a35"
      },
      "id": "8AmrVUflqChL",
      "execution_count": 9,
      "outputs": [
        {
          "output_type": "execute_result",
          "data": {
            "text/plain": [
              "31934    lady banned from kentucky mall. @user  #jcpenn...\n",
              "31946    @user omfg i'm offended! i'm a  mailbox and i'...\n",
              "31947    @user @user you don't have the balls to hashta...\n",
              "31948     makes you ask yourself, who am i? then am i a...\n",
              "31960    @user #sikh #temple vandalised in in #calgary,...\n",
              "Name: tweet, dtype: object"
            ]
          },
          "metadata": {},
          "execution_count": 9
        }
      ]
    },
    {
      "cell_type": "code",
      "source": [
        "STOPWORDS = set(stop_words)\n",
        "STOPWORDS = STOPWORDS.update([\"¦\", \"ð\"])\n",
        "\n",
        "def clean_text(text):\n",
        "  text = text.lower()\n",
        "  text = text.replace('<br />', '')\n",
        "  text = text.replace('¦','')\n",
        "  text = text.replace('ð','')\n",
        "  translator = str.maketrans('', '', punctuation)\n",
        "  text = text.translate(translator)\n",
        "  text = \" \".join([word for word in text.split() if word not in stop_words])\n",
        "  text = numtowords(text)\n",
        "  text = \" \".join([word for word in text.split() if len(word) > 2])\n",
        "  return text"
      ],
      "metadata": {
        "id": "KF7bkQRZwW4k"
      },
      "id": "KF7bkQRZwW4k",
      "execution_count": 10,
      "outputs": []
    },
    {
      "cell_type": "code",
      "source": [
        "def numtowords(text):\n",
        "  for word in text:\n",
        "    if re.search(r'\\d+', word):\n",
        "      digits = re.findall(r'\\d+', word)\n",
        "      for digit in digits:\n",
        "        text = re.sub(digit, num2words(digit, lang='en'), text)\n",
        "  return text"
      ],
      "metadata": {
        "id": "Oxi4yzfsxW0N"
      },
      "id": "Oxi4yzfsxW0N",
      "execution_count": 11,
      "outputs": []
    },
    {
      "cell_type": "code",
      "source": [
        "dataset['clean_text'] = dataset['tweet'].apply(clean_text)\n",
        "dataset.tail()"
      ],
      "metadata": {
        "colab": {
          "base_uri": "https://localhost:8080/",
          "height": 206
        },
        "id": "o24hUGj21hVc",
        "outputId": "d15dfd29-57d6-4d9e-e0c4-358f90f02af2"
      },
      "id": "o24hUGj21hVc",
      "execution_count": 12,
      "outputs": [
        {
          "output_type": "execute_result",
          "data": {
            "text/plain": [
              "                                                   tweet  label  \\\n",
              "31934  lady banned from kentucky mall. @user  #jcpenn...      1   \n",
              "31946  @user omfg i'm offended! i'm a  mailbox and i'...      1   \n",
              "31947  @user @user you don't have the balls to hashta...      1   \n",
              "31948   makes you ask yourself, who am i? then am i a...      1   \n",
              "31960  @user #sikh #temple vandalised in in #calgary,...      1   \n",
              "\n",
              "                                              clean_text  \n",
              "31934    lady banned kentucky mall user jcpenny kentucky  \n",
              "31946  user omfg offended mailbox proud mailboxpride ...  \n",
              "31947  user user dont balls hashtag say weasel away l...  \n",
              "31948                    makes ask anybody god thank god  \n",
              "31960  user sikh temple vandalised calgary wso condem...  "
            ],
            "text/html": [
              "\n",
              "  <div id=\"df-2a96c19b-f030-4735-980e-c6e2b126d9e8\">\n",
              "    <div class=\"colab-df-container\">\n",
              "      <div>\n",
              "<style scoped>\n",
              "    .dataframe tbody tr th:only-of-type {\n",
              "        vertical-align: middle;\n",
              "    }\n",
              "\n",
              "    .dataframe tbody tr th {\n",
              "        vertical-align: top;\n",
              "    }\n",
              "\n",
              "    .dataframe thead th {\n",
              "        text-align: right;\n",
              "    }\n",
              "</style>\n",
              "<table border=\"1\" class=\"dataframe\">\n",
              "  <thead>\n",
              "    <tr style=\"text-align: right;\">\n",
              "      <th></th>\n",
              "      <th>tweet</th>\n",
              "      <th>label</th>\n",
              "      <th>clean_text</th>\n",
              "    </tr>\n",
              "  </thead>\n",
              "  <tbody>\n",
              "    <tr>\n",
              "      <th>31934</th>\n",
              "      <td>lady banned from kentucky mall. @user  #jcpenn...</td>\n",
              "      <td>1</td>\n",
              "      <td>lady banned kentucky mall user jcpenny kentucky</td>\n",
              "    </tr>\n",
              "    <tr>\n",
              "      <th>31946</th>\n",
              "      <td>@user omfg i'm offended! i'm a  mailbox and i'...</td>\n",
              "      <td>1</td>\n",
              "      <td>user omfg offended mailbox proud mailboxpride ...</td>\n",
              "    </tr>\n",
              "    <tr>\n",
              "      <th>31947</th>\n",
              "      <td>@user @user you don't have the balls to hashta...</td>\n",
              "      <td>1</td>\n",
              "      <td>user user dont balls hashtag say weasel away l...</td>\n",
              "    </tr>\n",
              "    <tr>\n",
              "      <th>31948</th>\n",
              "      <td>makes you ask yourself, who am i? then am i a...</td>\n",
              "      <td>1</td>\n",
              "      <td>makes ask anybody god thank god</td>\n",
              "    </tr>\n",
              "    <tr>\n",
              "      <th>31960</th>\n",
              "      <td>@user #sikh #temple vandalised in in #calgary,...</td>\n",
              "      <td>1</td>\n",
              "      <td>user sikh temple vandalised calgary wso condem...</td>\n",
              "    </tr>\n",
              "  </tbody>\n",
              "</table>\n",
              "</div>\n",
              "      <button class=\"colab-df-convert\" onclick=\"convertToInteractive('df-2a96c19b-f030-4735-980e-c6e2b126d9e8')\"\n",
              "              title=\"Convert this dataframe to an interactive table.\"\n",
              "              style=\"display:none;\">\n",
              "        \n",
              "  <svg xmlns=\"http://www.w3.org/2000/svg\" height=\"24px\"viewBox=\"0 0 24 24\"\n",
              "       width=\"24px\">\n",
              "    <path d=\"M0 0h24v24H0V0z\" fill=\"none\"/>\n",
              "    <path d=\"M18.56 5.44l.94 2.06.94-2.06 2.06-.94-2.06-.94-.94-2.06-.94 2.06-2.06.94zm-11 1L8.5 8.5l.94-2.06 2.06-.94-2.06-.94L8.5 2.5l-.94 2.06-2.06.94zm10 10l.94 2.06.94-2.06 2.06-.94-2.06-.94-.94-2.06-.94 2.06-2.06.94z\"/><path d=\"M17.41 7.96l-1.37-1.37c-.4-.4-.92-.59-1.43-.59-.52 0-1.04.2-1.43.59L10.3 9.45l-7.72 7.72c-.78.78-.78 2.05 0 2.83L4 21.41c.39.39.9.59 1.41.59.51 0 1.02-.2 1.41-.59l7.78-7.78 2.81-2.81c.8-.78.8-2.07 0-2.86zM5.41 20L4 18.59l7.72-7.72 1.47 1.35L5.41 20z\"/>\n",
              "  </svg>\n",
              "      </button>\n",
              "      \n",
              "  <style>\n",
              "    .colab-df-container {\n",
              "      display:flex;\n",
              "      flex-wrap:wrap;\n",
              "      gap: 12px;\n",
              "    }\n",
              "\n",
              "    .colab-df-convert {\n",
              "      background-color: #E8F0FE;\n",
              "      border: none;\n",
              "      border-radius: 50%;\n",
              "      cursor: pointer;\n",
              "      display: none;\n",
              "      fill: #1967D2;\n",
              "      height: 32px;\n",
              "      padding: 0 0 0 0;\n",
              "      width: 32px;\n",
              "    }\n",
              "\n",
              "    .colab-df-convert:hover {\n",
              "      background-color: #E2EBFA;\n",
              "      box-shadow: 0px 1px 2px rgba(60, 64, 67, 0.3), 0px 1px 3px 1px rgba(60, 64, 67, 0.15);\n",
              "      fill: #174EA6;\n",
              "    }\n",
              "\n",
              "    [theme=dark] .colab-df-convert {\n",
              "      background-color: #3B4455;\n",
              "      fill: #D2E3FC;\n",
              "    }\n",
              "\n",
              "    [theme=dark] .colab-df-convert:hover {\n",
              "      background-color: #434B5C;\n",
              "      box-shadow: 0px 1px 3px 1px rgba(0, 0, 0, 0.15);\n",
              "      filter: drop-shadow(0px 1px 2px rgba(0, 0, 0, 0.3));\n",
              "      fill: #FFFFFF;\n",
              "    }\n",
              "  </style>\n",
              "\n",
              "      <script>\n",
              "        const buttonEl =\n",
              "          document.querySelector('#df-2a96c19b-f030-4735-980e-c6e2b126d9e8 button.colab-df-convert');\n",
              "        buttonEl.style.display =\n",
              "          google.colab.kernel.accessAllowed ? 'block' : 'none';\n",
              "\n",
              "        async function convertToInteractive(key) {\n",
              "          const element = document.querySelector('#df-2a96c19b-f030-4735-980e-c6e2b126d9e8');\n",
              "          const dataTable =\n",
              "            await google.colab.kernel.invokeFunction('convertToInteractive',\n",
              "                                                     [key], {});\n",
              "          if (!dataTable) return;\n",
              "\n",
              "          const docLinkHtml = 'Like what you see? Visit the ' +\n",
              "            '<a target=\"_blank\" href=https://colab.research.google.com/notebooks/data_table.ipynb>data table notebook</a>'\n",
              "            + ' to learn more about interactive tables.';\n",
              "          element.innerHTML = '';\n",
              "          dataTable['output_type'] = 'display_data';\n",
              "          await google.colab.output.renderOutput(dataTable, element);\n",
              "          const docLink = document.createElement('div');\n",
              "          docLink.innerHTML = docLinkHtml;\n",
              "          element.appendChild(docLink);\n",
              "        }\n",
              "      </script>\n",
              "    </div>\n",
              "  </div>\n",
              "  "
            ]
          },
          "metadata": {},
          "execution_count": 12
        }
      ]
    },
    {
      "cell_type": "code",
      "source": [
        "def replace_non_ascii(text):\n",
        "  return ''.join([i if ord(i) < 128 else ' ' for i in text])"
      ],
      "metadata": {
        "id": "CaNN6HHONgrX"
      },
      "id": "CaNN6HHONgrX",
      "execution_count": 13,
      "outputs": []
    },
    {
      "cell_type": "code",
      "source": [
        "dataset['clean_text'] = dataset['clean_text'].apply(replace_non_ascii)\n",
        "dataset.tail()"
      ],
      "metadata": {
        "colab": {
          "base_uri": "https://localhost:8080/",
          "height": 206
        },
        "id": "eelG7NWnN4pF",
        "outputId": "25cb23b7-241c-4a08-9b45-565bd9c3fa11"
      },
      "id": "eelG7NWnN4pF",
      "execution_count": 14,
      "outputs": [
        {
          "output_type": "execute_result",
          "data": {
            "text/plain": [
              "                                                   tweet  label  \\\n",
              "31934  lady banned from kentucky mall. @user  #jcpenn...      1   \n",
              "31946  @user omfg i'm offended! i'm a  mailbox and i'...      1   \n",
              "31947  @user @user you don't have the balls to hashta...      1   \n",
              "31948   makes you ask yourself, who am i? then am i a...      1   \n",
              "31960  @user #sikh #temple vandalised in in #calgary,...      1   \n",
              "\n",
              "                                              clean_text  \n",
              "31934    lady banned kentucky mall user jcpenny kentucky  \n",
              "31946  user omfg offended mailbox proud mailboxpride ...  \n",
              "31947  user user dont balls hashtag say weasel away l...  \n",
              "31948                    makes ask anybody god thank god  \n",
              "31960  user sikh temple vandalised calgary wso condem...  "
            ],
            "text/html": [
              "\n",
              "  <div id=\"df-4df96d03-f8d5-4894-827e-2fadfd022de8\">\n",
              "    <div class=\"colab-df-container\">\n",
              "      <div>\n",
              "<style scoped>\n",
              "    .dataframe tbody tr th:only-of-type {\n",
              "        vertical-align: middle;\n",
              "    }\n",
              "\n",
              "    .dataframe tbody tr th {\n",
              "        vertical-align: top;\n",
              "    }\n",
              "\n",
              "    .dataframe thead th {\n",
              "        text-align: right;\n",
              "    }\n",
              "</style>\n",
              "<table border=\"1\" class=\"dataframe\">\n",
              "  <thead>\n",
              "    <tr style=\"text-align: right;\">\n",
              "      <th></th>\n",
              "      <th>tweet</th>\n",
              "      <th>label</th>\n",
              "      <th>clean_text</th>\n",
              "    </tr>\n",
              "  </thead>\n",
              "  <tbody>\n",
              "    <tr>\n",
              "      <th>31934</th>\n",
              "      <td>lady banned from kentucky mall. @user  #jcpenn...</td>\n",
              "      <td>1</td>\n",
              "      <td>lady banned kentucky mall user jcpenny kentucky</td>\n",
              "    </tr>\n",
              "    <tr>\n",
              "      <th>31946</th>\n",
              "      <td>@user omfg i'm offended! i'm a  mailbox and i'...</td>\n",
              "      <td>1</td>\n",
              "      <td>user omfg offended mailbox proud mailboxpride ...</td>\n",
              "    </tr>\n",
              "    <tr>\n",
              "      <th>31947</th>\n",
              "      <td>@user @user you don't have the balls to hashta...</td>\n",
              "      <td>1</td>\n",
              "      <td>user user dont balls hashtag say weasel away l...</td>\n",
              "    </tr>\n",
              "    <tr>\n",
              "      <th>31948</th>\n",
              "      <td>makes you ask yourself, who am i? then am i a...</td>\n",
              "      <td>1</td>\n",
              "      <td>makes ask anybody god thank god</td>\n",
              "    </tr>\n",
              "    <tr>\n",
              "      <th>31960</th>\n",
              "      <td>@user #sikh #temple vandalised in in #calgary,...</td>\n",
              "      <td>1</td>\n",
              "      <td>user sikh temple vandalised calgary wso condem...</td>\n",
              "    </tr>\n",
              "  </tbody>\n",
              "</table>\n",
              "</div>\n",
              "      <button class=\"colab-df-convert\" onclick=\"convertToInteractive('df-4df96d03-f8d5-4894-827e-2fadfd022de8')\"\n",
              "              title=\"Convert this dataframe to an interactive table.\"\n",
              "              style=\"display:none;\">\n",
              "        \n",
              "  <svg xmlns=\"http://www.w3.org/2000/svg\" height=\"24px\"viewBox=\"0 0 24 24\"\n",
              "       width=\"24px\">\n",
              "    <path d=\"M0 0h24v24H0V0z\" fill=\"none\"/>\n",
              "    <path d=\"M18.56 5.44l.94 2.06.94-2.06 2.06-.94-2.06-.94-.94-2.06-.94 2.06-2.06.94zm-11 1L8.5 8.5l.94-2.06 2.06-.94-2.06-.94L8.5 2.5l-.94 2.06-2.06.94zm10 10l.94 2.06.94-2.06 2.06-.94-2.06-.94-.94-2.06-.94 2.06-2.06.94z\"/><path d=\"M17.41 7.96l-1.37-1.37c-.4-.4-.92-.59-1.43-.59-.52 0-1.04.2-1.43.59L10.3 9.45l-7.72 7.72c-.78.78-.78 2.05 0 2.83L4 21.41c.39.39.9.59 1.41.59.51 0 1.02-.2 1.41-.59l7.78-7.78 2.81-2.81c.8-.78.8-2.07 0-2.86zM5.41 20L4 18.59l7.72-7.72 1.47 1.35L5.41 20z\"/>\n",
              "  </svg>\n",
              "      </button>\n",
              "      \n",
              "  <style>\n",
              "    .colab-df-container {\n",
              "      display:flex;\n",
              "      flex-wrap:wrap;\n",
              "      gap: 12px;\n",
              "    }\n",
              "\n",
              "    .colab-df-convert {\n",
              "      background-color: #E8F0FE;\n",
              "      border: none;\n",
              "      border-radius: 50%;\n",
              "      cursor: pointer;\n",
              "      display: none;\n",
              "      fill: #1967D2;\n",
              "      height: 32px;\n",
              "      padding: 0 0 0 0;\n",
              "      width: 32px;\n",
              "    }\n",
              "\n",
              "    .colab-df-convert:hover {\n",
              "      background-color: #E2EBFA;\n",
              "      box-shadow: 0px 1px 2px rgba(60, 64, 67, 0.3), 0px 1px 3px 1px rgba(60, 64, 67, 0.15);\n",
              "      fill: #174EA6;\n",
              "    }\n",
              "\n",
              "    [theme=dark] .colab-df-convert {\n",
              "      background-color: #3B4455;\n",
              "      fill: #D2E3FC;\n",
              "    }\n",
              "\n",
              "    [theme=dark] .colab-df-convert:hover {\n",
              "      background-color: #434B5C;\n",
              "      box-shadow: 0px 1px 3px 1px rgba(0, 0, 0, 0.15);\n",
              "      filter: drop-shadow(0px 1px 2px rgba(0, 0, 0, 0.3));\n",
              "      fill: #FFFFFF;\n",
              "    }\n",
              "  </style>\n",
              "\n",
              "      <script>\n",
              "        const buttonEl =\n",
              "          document.querySelector('#df-4df96d03-f8d5-4894-827e-2fadfd022de8 button.colab-df-convert');\n",
              "        buttonEl.style.display =\n",
              "          google.colab.kernel.accessAllowed ? 'block' : 'none';\n",
              "\n",
              "        async function convertToInteractive(key) {\n",
              "          const element = document.querySelector('#df-4df96d03-f8d5-4894-827e-2fadfd022de8');\n",
              "          const dataTable =\n",
              "            await google.colab.kernel.invokeFunction('convertToInteractive',\n",
              "                                                     [key], {});\n",
              "          if (!dataTable) return;\n",
              "\n",
              "          const docLinkHtml = 'Like what you see? Visit the ' +\n",
              "            '<a target=\"_blank\" href=https://colab.research.google.com/notebooks/data_table.ipynb>data table notebook</a>'\n",
              "            + ' to learn more about interactive tables.';\n",
              "          element.innerHTML = '';\n",
              "          dataTable['output_type'] = 'display_data';\n",
              "          await google.colab.output.renderOutput(dataTable, element);\n",
              "          const docLink = document.createElement('div');\n",
              "          docLink.innerHTML = docLinkHtml;\n",
              "          element.appendChild(docLink);\n",
              "        }\n",
              "      </script>\n",
              "    </div>\n",
              "  </div>\n",
              "  "
            ]
          },
          "metadata": {},
          "execution_count": 14
        }
      ]
    },
    {
      "cell_type": "code",
      "source": [
        "nltk.download('omw-1.4')\n",
        "\n",
        "lemma = WordNetLemmatizer()\n",
        "def lem(text):\n",
        "  return [lemma.lemmatize(word, nltk.corpus.reader.wordnet.VERB) for word in nltk.wordpunct_tokenize(text)]"
      ],
      "metadata": {
        "id": "dzhiBnWr1-77",
        "colab": {
          "base_uri": "https://localhost:8080/"
        },
        "outputId": "10d43430-16d4-4153-85bf-380b04e139c0"
      },
      "id": "dzhiBnWr1-77",
      "execution_count": 15,
      "outputs": [
        {
          "output_type": "stream",
          "name": "stderr",
          "text": [
            "[nltk_data] Downloading package omw-1.4 to /root/nltk_data...\n",
            "[nltk_data]   Package omw-1.4 is already up-to-date!\n"
          ]
        }
      ]
    },
    {
      "cell_type": "code",
      "source": [
        "dataset['clean_lem_text'] = dataset['clean_text'].apply(lem)\n",
        "dataset.tail()"
      ],
      "metadata": {
        "colab": {
          "base_uri": "https://localhost:8080/",
          "height": 206
        },
        "id": "aCHPoaAN2mcE",
        "outputId": "e5ab1632-c50f-4ae8-ae9f-80f6e4243d3e"
      },
      "id": "aCHPoaAN2mcE",
      "execution_count": 16,
      "outputs": [
        {
          "output_type": "execute_result",
          "data": {
            "text/plain": [
              "                                                   tweet  label  \\\n",
              "31934  lady banned from kentucky mall. @user  #jcpenn...      1   \n",
              "31946  @user omfg i'm offended! i'm a  mailbox and i'...      1   \n",
              "31947  @user @user you don't have the balls to hashta...      1   \n",
              "31948   makes you ask yourself, who am i? then am i a...      1   \n",
              "31960  @user #sikh #temple vandalised in in #calgary,...      1   \n",
              "\n",
              "                                              clean_text  \\\n",
              "31934    lady banned kentucky mall user jcpenny kentucky   \n",
              "31946  user omfg offended mailbox proud mailboxpride ...   \n",
              "31947  user user dont balls hashtag say weasel away l...   \n",
              "31948                    makes ask anybody god thank god   \n",
              "31960  user sikh temple vandalised calgary wso condem...   \n",
              "\n",
              "                                          clean_lem_text  \n",
              "31934  [lady, ban, kentucky, mall, user, jcpenny, ken...  \n",
              "31946  [user, omfg, offend, mailbox, proud, mailboxpr...  \n",
              "31947  [user, user, dont, ball, hashtag, say, weasel,...  \n",
              "31948              [make, ask, anybody, god, thank, god]  \n",
              "31960  [user, sikh, temple, vandalise, calgary, wso, ...  "
            ],
            "text/html": [
              "\n",
              "  <div id=\"df-5fd641c5-64f2-4111-b862-5e5b89c64dc2\">\n",
              "    <div class=\"colab-df-container\">\n",
              "      <div>\n",
              "<style scoped>\n",
              "    .dataframe tbody tr th:only-of-type {\n",
              "        vertical-align: middle;\n",
              "    }\n",
              "\n",
              "    .dataframe tbody tr th {\n",
              "        vertical-align: top;\n",
              "    }\n",
              "\n",
              "    .dataframe thead th {\n",
              "        text-align: right;\n",
              "    }\n",
              "</style>\n",
              "<table border=\"1\" class=\"dataframe\">\n",
              "  <thead>\n",
              "    <tr style=\"text-align: right;\">\n",
              "      <th></th>\n",
              "      <th>tweet</th>\n",
              "      <th>label</th>\n",
              "      <th>clean_text</th>\n",
              "      <th>clean_lem_text</th>\n",
              "    </tr>\n",
              "  </thead>\n",
              "  <tbody>\n",
              "    <tr>\n",
              "      <th>31934</th>\n",
              "      <td>lady banned from kentucky mall. @user  #jcpenn...</td>\n",
              "      <td>1</td>\n",
              "      <td>lady banned kentucky mall user jcpenny kentucky</td>\n",
              "      <td>[lady, ban, kentucky, mall, user, jcpenny, ken...</td>\n",
              "    </tr>\n",
              "    <tr>\n",
              "      <th>31946</th>\n",
              "      <td>@user omfg i'm offended! i'm a  mailbox and i'...</td>\n",
              "      <td>1</td>\n",
              "      <td>user omfg offended mailbox proud mailboxpride ...</td>\n",
              "      <td>[user, omfg, offend, mailbox, proud, mailboxpr...</td>\n",
              "    </tr>\n",
              "    <tr>\n",
              "      <th>31947</th>\n",
              "      <td>@user @user you don't have the balls to hashta...</td>\n",
              "      <td>1</td>\n",
              "      <td>user user dont balls hashtag say weasel away l...</td>\n",
              "      <td>[user, user, dont, ball, hashtag, say, weasel,...</td>\n",
              "    </tr>\n",
              "    <tr>\n",
              "      <th>31948</th>\n",
              "      <td>makes you ask yourself, who am i? then am i a...</td>\n",
              "      <td>1</td>\n",
              "      <td>makes ask anybody god thank god</td>\n",
              "      <td>[make, ask, anybody, god, thank, god]</td>\n",
              "    </tr>\n",
              "    <tr>\n",
              "      <th>31960</th>\n",
              "      <td>@user #sikh #temple vandalised in in #calgary,...</td>\n",
              "      <td>1</td>\n",
              "      <td>user sikh temple vandalised calgary wso condem...</td>\n",
              "      <td>[user, sikh, temple, vandalise, calgary, wso, ...</td>\n",
              "    </tr>\n",
              "  </tbody>\n",
              "</table>\n",
              "</div>\n",
              "      <button class=\"colab-df-convert\" onclick=\"convertToInteractive('df-5fd641c5-64f2-4111-b862-5e5b89c64dc2')\"\n",
              "              title=\"Convert this dataframe to an interactive table.\"\n",
              "              style=\"display:none;\">\n",
              "        \n",
              "  <svg xmlns=\"http://www.w3.org/2000/svg\" height=\"24px\"viewBox=\"0 0 24 24\"\n",
              "       width=\"24px\">\n",
              "    <path d=\"M0 0h24v24H0V0z\" fill=\"none\"/>\n",
              "    <path d=\"M18.56 5.44l.94 2.06.94-2.06 2.06-.94-2.06-.94-.94-2.06-.94 2.06-2.06.94zm-11 1L8.5 8.5l.94-2.06 2.06-.94-2.06-.94L8.5 2.5l-.94 2.06-2.06.94zm10 10l.94 2.06.94-2.06 2.06-.94-2.06-.94-.94-2.06-.94 2.06-2.06.94z\"/><path d=\"M17.41 7.96l-1.37-1.37c-.4-.4-.92-.59-1.43-.59-.52 0-1.04.2-1.43.59L10.3 9.45l-7.72 7.72c-.78.78-.78 2.05 0 2.83L4 21.41c.39.39.9.59 1.41.59.51 0 1.02-.2 1.41-.59l7.78-7.78 2.81-2.81c.8-.78.8-2.07 0-2.86zM5.41 20L4 18.59l7.72-7.72 1.47 1.35L5.41 20z\"/>\n",
              "  </svg>\n",
              "      </button>\n",
              "      \n",
              "  <style>\n",
              "    .colab-df-container {\n",
              "      display:flex;\n",
              "      flex-wrap:wrap;\n",
              "      gap: 12px;\n",
              "    }\n",
              "\n",
              "    .colab-df-convert {\n",
              "      background-color: #E8F0FE;\n",
              "      border: none;\n",
              "      border-radius: 50%;\n",
              "      cursor: pointer;\n",
              "      display: none;\n",
              "      fill: #1967D2;\n",
              "      height: 32px;\n",
              "      padding: 0 0 0 0;\n",
              "      width: 32px;\n",
              "    }\n",
              "\n",
              "    .colab-df-convert:hover {\n",
              "      background-color: #E2EBFA;\n",
              "      box-shadow: 0px 1px 2px rgba(60, 64, 67, 0.3), 0px 1px 3px 1px rgba(60, 64, 67, 0.15);\n",
              "      fill: #174EA6;\n",
              "    }\n",
              "\n",
              "    [theme=dark] .colab-df-convert {\n",
              "      background-color: #3B4455;\n",
              "      fill: #D2E3FC;\n",
              "    }\n",
              "\n",
              "    [theme=dark] .colab-df-convert:hover {\n",
              "      background-color: #434B5C;\n",
              "      box-shadow: 0px 1px 3px 1px rgba(0, 0, 0, 0.15);\n",
              "      filter: drop-shadow(0px 1px 2px rgba(0, 0, 0, 0.3));\n",
              "      fill: #FFFFFF;\n",
              "    }\n",
              "  </style>\n",
              "\n",
              "      <script>\n",
              "        const buttonEl =\n",
              "          document.querySelector('#df-5fd641c5-64f2-4111-b862-5e5b89c64dc2 button.colab-df-convert');\n",
              "        buttonEl.style.display =\n",
              "          google.colab.kernel.accessAllowed ? 'block' : 'none';\n",
              "\n",
              "        async function convertToInteractive(key) {\n",
              "          const element = document.querySelector('#df-5fd641c5-64f2-4111-b862-5e5b89c64dc2');\n",
              "          const dataTable =\n",
              "            await google.colab.kernel.invokeFunction('convertToInteractive',\n",
              "                                                     [key], {});\n",
              "          if (!dataTable) return;\n",
              "\n",
              "          const docLinkHtml = 'Like what you see? Visit the ' +\n",
              "            '<a target=\"_blank\" href=https://colab.research.google.com/notebooks/data_table.ipynb>data table notebook</a>'\n",
              "            + ' to learn more about interactive tables.';\n",
              "          element.innerHTML = '';\n",
              "          dataTable['output_type'] = 'display_data';\n",
              "          await google.colab.output.renderOutput(dataTable, element);\n",
              "          const docLink = document.createElement('div');\n",
              "          docLink.innerHTML = docLinkHtml;\n",
              "          element.appendChild(docLink);\n",
              "        }\n",
              "      </script>\n",
              "    </div>\n",
              "  </div>\n",
              "  "
            ]
          },
          "metadata": {},
          "execution_count": 16
        }
      ]
    },
    {
      "cell_type": "markdown",
      "source": [
        "# **2. Modele ML**"
      ],
      "metadata": {
        "id": "bE61SNPp9hPf"
      },
      "id": "bE61SNPp9hPf"
    },
    {
      "cell_type": "code",
      "source": [
        "#wektoryzacja\n",
        "X=dataset.clean_lem_text\n",
        "y=dataset.label\n",
        "vectoriser = TfidfVectorizer(ngram_range=(1,2), max_features=5000, lowercase=False, preprocessor=' '.join)\n",
        "vec_data = vectoriser.fit_transform(dataset.clean_lem_text).toarray()\n",
        "print('No. of feature_words: ', len(vectoriser.get_feature_names()))"
      ],
      "metadata": {
        "colab": {
          "base_uri": "https://localhost:8080/"
        },
        "id": "k5d_8HGxPfKl",
        "outputId": "c3e61a11-b440-4be5-f72c-3a451bf7a09a"
      },
      "id": "k5d_8HGxPfKl",
      "execution_count": 17,
      "outputs": [
        {
          "output_type": "stream",
          "name": "stdout",
          "text": [
            "No. of feature_words:  5000\n"
          ]
        }
      ]
    },
    {
      "cell_type": "code",
      "source": [
        "# Podział na zbiór treningowy i testowy\n",
        "X_train, X_test, y_train, y_test = train_test_split(vec_data,y,test_size = 0.1, random_state =26105111)"
      ],
      "metadata": {
        "id": "85OjUJQhO0BU"
      },
      "id": "85OjUJQhO0BU",
      "execution_count": 18,
      "outputs": []
    },
    {
      "cell_type": "markdown",
      "source": [
        "## **2.1 - Logistic Regression**"
      ],
      "metadata": {
        "id": "hzsGBxca86a3"
      },
      "id": "hzsGBxca86a3"
    },
    {
      "cell_type": "code",
      "source": [
        "lr = LogisticRegression()\n",
        "lr.fit(X_train, y_train)\n",
        "y_pred = lr.predict(X_test)"
      ],
      "metadata": {
        "id": "TBia1sef6YGJ"
      },
      "id": "TBia1sef6YGJ",
      "execution_count": 19,
      "outputs": []
    },
    {
      "cell_type": "code",
      "source": [
        "accuracy = accuracy_score(y_test, y_pred)*100\n",
        "cf_matrix = confusion_matrix(y_test,y_pred)\n",
        "print(\"Logistic Regression\")\n",
        "print('Accuracy Score: %0.3f' % accuracy, '%')\n",
        "Counter(y_pred)"
      ],
      "metadata": {
        "colab": {
          "base_uri": "https://localhost:8080/"
        },
        "id": "H6W9judB6-uJ",
        "outputId": "ca73cdc7-71f6-4799-f51f-e5166f44d121"
      },
      "id": "H6W9judB6-uJ",
      "execution_count": 20,
      "outputs": [
        {
          "output_type": "stream",
          "name": "stdout",
          "text": [
            "Logistic Regression\n",
            "Accuracy Score: 95.746 %\n"
          ]
        },
        {
          "output_type": "execute_result",
          "data": {
            "text/plain": [
              "Counter({0: 3096, 1: 101})"
            ]
          },
          "metadata": {},
          "execution_count": 20
        }
      ]
    },
    {
      "cell_type": "code",
      "source": [
        "#Confusion Matrix\n",
        "ax = sns.heatmap(cf_matrix, annot=True, cmap='Blues', fmt='g')\n",
        "\n",
        "ax.set_title('Confusion Matrix - Logistic Regression\\n\\n');\n",
        "ax.set_xlabel('\\nPredicted Sentiment')\n",
        "ax.set_ylabel('Actual Sentiment');\n",
        "\n",
        "ax.xaxis.set_ticklabels(['Positive/Neutral','Negative'])\n",
        "ax.yaxis.set_ticklabels(['Positive/Neutral','Negative'])\n",
        "\n",
        "plt.show()"
      ],
      "metadata": {
        "colab": {
          "base_uri": "https://localhost:8080/",
          "height": 337
        },
        "id": "mme1drSoTV6B",
        "outputId": "3b04fd08-4a67-426d-8fde-42abb20e1e1c"
      },
      "id": "mme1drSoTV6B",
      "execution_count": 21,
      "outputs": [
        {
          "output_type": "display_data",
          "data": {
            "text/plain": [
              "<Figure size 432x288 with 2 Axes>"
            ],
            "image/png": "[encoded data removed]"
          },
          "metadata": {
            "needs_background": "light"
          }
        }
      ]
    },
    {
      "cell_type": "code",
      "source": [
        "#ROC Curve\n",
        "\n",
        "fpr, tpr, _ = roc_curve(y_test,  y_pred)\n",
        "roc_auc = auc(fpr, tpr)\n",
        "\n",
        "plt.plot(fpr,tpr, label='ROC Curve (area = %0.2f)' % roc_auc)\n",
        "plt.title('ROC Curve - Logistic Regression')\n",
        "plt.ylabel('True Positive Rate')\n",
        "plt.xlabel('False Positive Rate')\n",
        "plt.legend(loc='lower right')\n",
        "plt.show()"
      ],
      "metadata": {
        "colab": {
          "base_uri": "https://localhost:8080/",
          "height": 295
        },
        "id": "P0PQHMemXDUB",
        "outputId": "e03577bb-9a80-432a-90e1-78e20a566366"
      },
      "id": "P0PQHMemXDUB",
      "execution_count": 22,
      "outputs": [
        {
          "output_type": "display_data",
          "data": {
            "text/plain": [
              "<Figure size 432x288 with 1 Axes>"
            ],
            "image/png": "[encoded data removed]"
          },
          "metadata": {
            "needs_background": "light"
          }
        }
      ]
    },
    {
      "cell_type": "markdown",
      "source": [
        "## **2.2 - K Nearest Neighbours**"
      ],
      "metadata": {
        "id": "Dl3zkd53CvEf"
      },
      "id": "Dl3zkd53CvEf"
    },
    {
      "cell_type": "code",
      "source": [
        "KNN = KNeighborsClassifier(n_neighbors = 3)\n",
        "KNN.fit(X_train, y_train)\n",
        "y_pred = KNN.predict(X_test)\n",
        "\n",
        "accuracy = accuracy_score(y_test, y_pred)*100\n",
        "cf_matrix = confusion_matrix(y_test,y_pred)\n",
        "print('K Nearest Neighbors (NN = 3)')\n",
        "print('Accuracy Score: %0.3f' % accuracy, '%')\n",
        "Counter(y_pred)"
      ],
      "metadata": {
        "colab": {
          "base_uri": "https://localhost:8080/"
        },
        "id": "8dbV43H5CuJG",
        "outputId": "68c988c5-4c5b-4cc2-aa84-66edf55eef1d"
      },
      "id": "8dbV43H5CuJG",
      "execution_count": 23,
      "outputs": [
        {
          "output_type": "stream",
          "name": "stdout",
          "text": [
            "K Nearest Neighbors (NN = 3)\n",
            "Accuracy Score: 95.120 %\n"
          ]
        },
        {
          "output_type": "execute_result",
          "data": {
            "text/plain": [
              "Counter({0: 3102, 1: 95})"
            ]
          },
          "metadata": {},
          "execution_count": 23
        }
      ]
    },
    {
      "cell_type": "code",
      "source": [
        "#Confusion Matrix\n",
        "ax = sns.heatmap(cf_matrix, annot=True, cmap='Blues', fmt='g')\n",
        "\n",
        "ax.set_title('Confusion Matrix - KNN\\n\\n');\n",
        "ax.set_xlabel('\\nPredicted Sentiment')\n",
        "ax.set_ylabel('Actual Sentiment');\n",
        "\n",
        "ax.xaxis.set_ticklabels(['Positive/Neutral','Negative'])\n",
        "ax.yaxis.set_ticklabels(['Positive/Neutral','Negative'])\n",
        "\n",
        "plt.show()"
      ],
      "metadata": {
        "colab": {
          "base_uri": "https://localhost:8080/",
          "height": 337
        },
        "id": "wlAP4qVOYZqM",
        "outputId": "74149feb-93dc-4b81-9fa8-0293cb785328"
      },
      "id": "wlAP4qVOYZqM",
      "execution_count": 24,
      "outputs": [
        {
          "output_type": "display_data",
          "data": {
            "text/plain": [
              "<Figure size 432x288 with 2 Axes>"
            ],
            "image/png": "[encoded data removed]"
          },
          "metadata": {
            "needs_background": "light"
          }
        }
      ]
    },
    {
      "cell_type": "code",
      "source": [
        "#ROC Curve\n",
        "\n",
        "fpr, tpr, _ = roc_curve(y_test,  y_pred)\n",
        "roc_auc = auc(fpr, tpr)\n",
        "\n",
        "plt.plot(fpr,tpr, label='ROC Curve (area = %0.2f)' % roc_auc)\n",
        "plt.title('ROC Curve - KNN')\n",
        "plt.ylabel('True Positive Rate')\n",
        "plt.xlabel('False Positive Rate')\n",
        "plt.legend(loc='lower right')\n",
        "plt.show()"
      ],
      "metadata": {
        "colab": {
          "base_uri": "https://localhost:8080/",
          "height": 295
        },
        "id": "kyatnNKmYaqH",
        "outputId": "9cadfdf0-2ad8-48c9-b793-dc1fcf178e86"
      },
      "id": "kyatnNKmYaqH",
      "execution_count": 25,
      "outputs": [
        {
          "output_type": "display_data",
          "data": {
            "text/plain": [
              "<Figure size 432x288 with 1 Axes>"
            ],
            "image/png": "[encoded data removed]"
          },
          "metadata": {
            "needs_background": "light"
          }
        }
      ]
    },
    {
      "cell_type": "markdown",
      "source": [
        "## **2.3 - Multinominal Naive Bayes**"
      ],
      "metadata": {
        "id": "f3JItS4KHRv6"
      },
      "id": "f3JItS4KHRv6"
    },
    {
      "cell_type": "code",
      "source": [
        "NB = MultinomialNB()\n",
        "NB.fit(X_train, y_train)\n",
        "y_pred = NB.predict(X_test)\n",
        "\n",
        "accuracy = accuracy_score(y_test, y_pred)*100\n",
        "cf_matrix = confusion_matrix(y_test,y_pred)\n",
        "print('Multinominal Naive Bayes')\n",
        "print('Accuracy Score: %0.3f' % accuracy, '%')\n",
        "Counter(y_pred)"
      ],
      "metadata": {
        "colab": {
          "base_uri": "https://localhost:8080/"
        },
        "id": "Kqhs10MDF3oY",
        "outputId": "25218238-599f-4909-ea22-d119e6ad3152"
      },
      "id": "Kqhs10MDF3oY",
      "execution_count": 26,
      "outputs": [
        {
          "output_type": "stream",
          "name": "stdout",
          "text": [
            "Multinominal Naive Bayes\n",
            "Accuracy Score: 95.652 %\n"
          ]
        },
        {
          "output_type": "execute_result",
          "data": {
            "text/plain": [
              "Counter({0: 3099, 1: 98})"
            ]
          },
          "metadata": {},
          "execution_count": 26
        }
      ]
    },
    {
      "cell_type": "code",
      "source": [
        "#Confusion Matrix\n",
        "ax = sns.heatmap(cf_matrix, annot=True, cmap='Blues', fmt='g')\n",
        "\n",
        "ax.set_title('Confusion Matrix - Multinominal Naive Bayes\\n\\n');\n",
        "ax.set_xlabel('\\nPredicted Sentiment')\n",
        "ax.set_ylabel('Actual Sentiment');\n",
        "\n",
        "ax.xaxis.set_ticklabels(['Positive/Neutral','Negative'])\n",
        "ax.yaxis.set_ticklabels(['Positive/Neutral','Negative'])\n",
        "\n",
        "plt.show()"
      ],
      "metadata": {
        "colab": {
          "base_uri": "https://localhost:8080/",
          "height": 337
        },
        "id": "s0tcQdomb9u0",
        "outputId": "d4639c47-4e11-4bf5-a2bc-4dd1c3f685ba"
      },
      "id": "s0tcQdomb9u0",
      "execution_count": 27,
      "outputs": [
        {
          "output_type": "display_data",
          "data": {
            "text/plain": [
              "<Figure size 432x288 with 2 Axes>"
            ],
            "image/png": "[encoded data removed]"
          },
          "metadata": {
            "needs_background": "light"
          }
        }
      ]
    },
    {
      "cell_type": "code",
      "source": [
        "#ROC Curve\n",
        "\n",
        "fpr, tpr, _ = roc_curve(y_test,  y_pred)\n",
        "roc_auc = auc(fpr, tpr)\n",
        "\n",
        "plt.plot(fpr,tpr, label='ROC Curve (area = %0.2f)' % roc_auc)\n",
        "plt.title('ROC Curve - Multinominal Naive Bayes')\n",
        "plt.ylabel('True Positive Rate')\n",
        "plt.xlabel('False Positive Rate')\n",
        "plt.legend(loc='lower right')\n",
        "plt.show()"
      ],
      "metadata": {
        "colab": {
          "base_uri": "https://localhost:8080/",
          "height": 295
        },
        "id": "yjqYGWVxcBnl",
        "outputId": "e51e3d63-6315-42c7-8010-ec8b6eb113ea"
      },
      "id": "yjqYGWVxcBnl",
      "execution_count": 28,
      "outputs": [
        {
          "output_type": "display_data",
          "data": {
            "text/plain": [
              "<Figure size 432x288 with 1 Axes>"
            ],
            "image/png": "[encoded data removed]"
          },
          "metadata": {
            "needs_background": "light"
          }
        }
      ]
    },
    {
      "cell_type": "markdown",
      "source": [
        "# **3. Model NN**"
      ],
      "metadata": {
        "id": "L_3mWxZOccEB"
      },
      "id": "L_3mWxZOccEB"
    },
    {
      "cell_type": "code",
      "source": [
        "from tensorflow.keras.models import Sequential\n",
        "from tensorflow.keras.layers import LSTM,Dense, Dropout, SpatialDropout1D\n",
        "from tensorflow.keras.layers import Embedding\n",
        "from tensorflow.keras.preprocessing.text import Tokenizer\n",
        "from tensorflow.keras.preprocessing.sequence import pad_sequences\n",
        "from tensorflow.keras.callbacks import ModelCheckpoint\n",
        "\n",
        "X=dataset.clean_lem_text\n",
        "y=dataset.label\n",
        "vectoriser = TfidfVectorizer(ngram_range=(1,2), max_features=50, lowercase=False, preprocessor=' '.join)\n",
        "vec_data = vectoriser.fit_transform(dataset.clean_lem_text).toarray()\n",
        "print('No. of feature_words: ', len(vectoriser.get_feature_names()))\n",
        "\n",
        "X_train, X_test, y_train, y_test = train_test_split(vec_data,y,test_size = 0.1, random_state =26105111)\n",
        "\n",
        "embedding_vector_length = 32\n",
        "model = Sequential()\n",
        "model.add(Embedding(200, embedding_vector_length, input_length=50))\n",
        "model.add(SpatialDropout1D(0.25))\n",
        "model.add(LSTM(10, dropout=0.5, recurrent_dropout=0.5))\n",
        "model.add(Dropout(0.2))\n",
        "model.add(Dense(1, activation='sigmoid'))\n",
        "\n",
        "model.compile(loss='binary_crossentropy',optimizer='adam', metrics=['accuracy'])\n",
        "\n",
        "print(model.summary())"
      ],
      "metadata": {
        "colab": {
          "base_uri": "https://localhost:8080/"
        },
        "id": "OWGm4tqBcYwp",
        "outputId": "77411adc-3f1d-4880-b1bf-9f6cf2c5ad80"
      },
      "id": "OWGm4tqBcYwp",
      "execution_count": 53,
      "outputs": [
        {
          "output_type": "stream",
          "name": "stdout",
          "text": [
            "No. of feature_words:  50\n",
            "Model: \"sequential_9\"\n",
            "_________________________________________________________________\n",
            " Layer (type)                Output Shape              Param #   \n",
            "=================================================================\n",
            " embedding_9 (Embedding)     (None, 50, 32)            6400      \n",
            "                                                                 \n",
            " spatial_dropout1d_9 (Spatia  (None, 50, 32)           0         \n",
            " lDropout1D)                                                     \n",
            "                                                                 \n",
            " lstm_9 (LSTM)               (None, 10)                1720      \n",
            "                                                                 \n",
            " dropout_9 (Dropout)         (None, 10)                0         \n",
            "                                                                 \n",
            " dense_9 (Dense)             (None, 1)                 11        \n",
            "                                                                 \n",
            "=================================================================\n",
            "Total params: 8,131\n",
            "Trainable params: 8,131\n",
            "Non-trainable params: 0\n",
            "_________________________________________________________________\n",
            "None\n"
          ]
        }
      ]
    },
    {
      "cell_type": "code",
      "source": [
        "checkpoint = ModelCheckpoint('best_model.hdf5', \n",
        "                              monitor='val_accuracy',\n",
        "                              verbose=1,\n",
        "                              save_best_only=True,\n",
        "                              mode='auto',\n",
        "                              period=1,\n",
        "                              save_weights_only=False)\n",
        "\n",
        "history = model.fit(X_train,y_train,validation_split=0.2, epochs=5, batch_size=32, callbacks=[checkpoint])"
      ],
      "metadata": {
        "colab": {
          "base_uri": "https://localhost:8080/"
        },
        "id": "qUhwxQI0ia-H",
        "outputId": "822b8e7d-0709-42c7-9327-34d2015b1273"
      },
      "id": "qUhwxQI0ia-H",
      "execution_count": 54,
      "outputs": [
        {
          "output_type": "stream",
          "name": "stdout",
          "text": [
            "WARNING:tensorflow:`period` argument is deprecated. Please use `save_freq` to specify the frequency in number of batches seen.\n",
            "Epoch 1/5\n",
            "720/720 [==============================] - ETA: 0s - loss: 0.2759 - accuracy: 0.9288\n",
            "Epoch 1: val_accuracy improved from -inf to 0.93273, saving model to best_model.hdf5\n",
            "720/720 [==============================] - 111s 61ms/step - loss: 0.2759 - accuracy: 0.9288 - val_loss: 0.2465 - val_accuracy: 0.9327\n",
            "Epoch 2/5\n",
            "719/720 [============================>.] - ETA: 0s - loss: 0.2623 - accuracy: 0.9288\n",
            "Epoch 2: val_accuracy did not improve from 0.93273\n",
            "720/720 [==============================] - 43s 60ms/step - loss: 0.2623 - accuracy: 0.9288 - val_loss: 0.2468 - val_accuracy: 0.9327\n",
            "Epoch 3/5\n",
            "720/720 [==============================] - ETA: 0s - loss: 0.2631 - accuracy: 0.9288\n",
            "Epoch 3: val_accuracy did not improve from 0.93273\n",
            "720/720 [==============================] - 41s 57ms/step - loss: 0.2631 - accuracy: 0.9288 - val_loss: 0.2465 - val_accuracy: 0.9327\n",
            "Epoch 4/5\n",
            "720/720 [==============================] - ETA: 0s - loss: 0.2624 - accuracy: 0.9288\n",
            "Epoch 4: val_accuracy did not improve from 0.93273\n",
            "720/720 [==============================] - 42s 58ms/step - loss: 0.2624 - accuracy: 0.9288 - val_loss: 0.2463 - val_accuracy: 0.9327\n",
            "Epoch 5/5\n",
            "720/720 [==============================] - ETA: 0s - loss: 0.2606 - accuracy: 0.9288\n",
            "Epoch 5: val_accuracy did not improve from 0.93273\n",
            "720/720 [==============================] - 44s 62ms/step - loss: 0.2606 - accuracy: 0.9288 - val_loss: 0.2456 - val_accuracy: 0.9327\n"
          ]
        }
      ]
    },
    {
      "cell_type": "code",
      "source": [
        "from tensorflow.keras.models import load_model\n",
        "\n",
        "best_model = load_model(\"best_model.hdf5\")\n",
        "test_loss, test_acc = best_model.evaluate(X_test, y_test, verbose=2)\n",
        "print('Model accuracy: ',test_acc)"
      ],
      "metadata": {
        "colab": {
          "base_uri": "https://localhost:8080/"
        },
        "id": "a3-irziXzbMm",
        "outputId": "8946f3cd-1408-4a34-e404-c4bb57606a59"
      },
      "id": "a3-irziXzbMm",
      "execution_count": 56,
      "outputs": [
        {
          "output_type": "stream",
          "name": "stdout",
          "text": [
            "100/100 - 2s - loss: 0.2481 - accuracy: 0.9321 - 2s/epoch - 21ms/step\n",
            "Model accuracy:  0.9321238398551941\n"
          ]
        }
      ]
    },
    {
      "cell_type": "markdown",
      "source": [
        "# **Podsumowanie**\n",
        "\n",
        "Dokonałem czyszczenia, lematyzacji i wektoryzacji danych. \n",
        "\n",
        "Użyty przeze mnie zbiór danych jest bardzo niezrównoważony pod kątem liczebności poszczególnych klas. Klasa '0' oznacza tweety bez nacechowania rasistowskiego / seksistowskiego, a więc jest to klasa pozytywna / neutralna. Zawiera ona 29720 rekordów. Klasa '1' jest negatywna i liczy 2242 rekordy. \n",
        "\n",
        "Mimo to wszystkie użyte przeze mnie modele ML dobrze poradziły sobie z analizą sentymentu osiągając accuracy > 95%. Pole pod ROC Curve miało największą wartość dla Regresji Logistycznej. \n",
        "\n",
        "Dla modelu NN opartego na strukturze LSTM musiałem znacznie zmniejszyć liczbę słów do 50 najczęściej występujących (dla pozostałych modeli było to 5000) i co za tym idzie liczbę parametrów parametrów. Po zaledwie 5 epokach majlepszy sposród stworzonych modeli osiągnął accuracy na poziomie 93%. Lepszy wynik dałoby się z pewnością uzyskać zwiększając liczbę parametrów oraz epok."
      ],
      "metadata": {
        "id": "2kHBFcS8jrVy"
      },
      "id": "2kHBFcS8jrVy"
    }
  ]
}